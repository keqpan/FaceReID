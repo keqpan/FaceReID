{
 "cells": [
  {
   "cell_type": "code",
   "execution_count": 1,
   "metadata": {},
   "outputs": [],
   "source": [
    "import scipy.io"
   ]
  },
  {
   "cell_type": "code",
   "execution_count": 3,
   "metadata": {},
   "outputs": [],
   "source": [
    "mat_file_path = '/home/safin/MobileFaceNet_Pytorch/result/best_result.mat'\n",
    "result = scipy.io.loadmat(mat_file_path)\n"
   ]
  },
  {
   "cell_type": "code",
   "execution_count": 5,
   "metadata": {},
   "outputs": [],
   "source": [
    "fl = result['fl']\n",
    "fr = result['fr']"
   ]
  },
  {
   "cell_type": "code",
   "execution_count": 6,
   "metadata": {},
   "outputs": [],
   "source": [
    "import torch\n",
    "l2dist = torch.nn.CosineSimilarity()"
   ]
  },
  {
   "cell_type": "code",
   "execution_count": 11,
   "metadata": {},
   "outputs": [],
   "source": [
    "N = fl.shape[0]"
   ]
  },
  {
   "cell_type": "code",
   "execution_count": 19,
   "metadata": {},
   "outputs": [],
   "source": [
    "step = 64\n",
    "arr = []\n",
    "for i in range(N//step + 1):\n",
    "    cur_fl = torch.from_numpy(fl[i*step:(i+1)*step])\n",
    "    cur_fr = torch.from_numpy(fr[i*step:(i+1)*step])\n",
    "    arr += l2dist(cur_fl, cur_fr).numpy().tolist()\n",
    "arr = np.asarray(arr)"
   ]
  },
  {
   "cell_type": "code",
   "execution_count": 35,
   "metadata": {},
   "outputs": [],
   "source": [
    "from utils import KFold\n",
    "import numpy as np\n",
    "\n",
    "def k_fold_eval(dists, labels):\n",
    "#     thresholds = np.arange(-1.0, 1.0, 0.001)\n",
    "    thrNum = 10000\n",
    "    thresholds = np.arange(-thrNum, thrNum + 1) * 1.0 / thrNum\n",
    "    acc_arr = []\n",
    "    for pairs in KFold(n=6000, n_folds=10):\n",
    "        train_pairs, test_pairs = pairs\n",
    "        t, _ = find_best(thresholds, dists[train_pairs], labels[train_pairs])\n",
    "        acc_arr.append(eval_acc(t, dists[test_pairs], labels[test_pairs]))\n",
    "    return np.mean(acc_arr), np.std(acc_arr)\n",
    "\n",
    "def eval_acc(threshold, dists, labels):\n",
    "    accuracy = ((dists > threshold) == labels).mean()\n",
    "    return accuracy\n",
    "\n",
    "def find_best(thresholds, dists, labels):\n",
    "    best_threshold = best_acc = 0\n",
    "    for threshold in thresholds:\n",
    "        accuracy = eval_acc(threshold, dists, labels)\n",
    "        if accuracy >= best_acc:\n",
    "            best_acc = accuracy\n",
    "            best_threshold = threshold\n",
    "    return best_threshold, best_acc"
   ]
  },
  {
   "cell_type": "code",
   "execution_count": 44,
   "metadata": {},
   "outputs": [],
   "source": [
    "def k_fold_eval(featureLs, featureRs, labels):\n",
    "#     thresholds = np.arange(-1.0, 1.0, 0.001)\n",
    "    thrNum = 10000\n",
    "    thresholds = np.arange(-thrNum, thrNum + 1) * 1.0 / thrNum\n",
    "    acc_arr = []\n",
    "    for pairs in KFold(n=6000, n_folds=10):\n",
    "        train_pairs, test_pairs = pairs\n",
    "        mu = np.mean(np.concatenate((featureLs[train_pairs, :], featureRs[train_pairs, :]), 0), 0)\n",
    "#         print(mu)\n",
    "        mu = np.expand_dims(mu, 0)\n",
    "        fLs = featureLs #- mu\n",
    "        fRs = featureRs #- mu\n",
    "        fLs = fLs / np.expand_dims(np.sqrt(np.sum(np.power(fLs, 2), 1)), 1)\n",
    "        fRs = fRs / np.expand_dims(np.sqrt(np.sum(np.power(fRs, 2), 1)), 1)\n",
    "        scores = np.sum(np.multiply(fLs, fRs), 1)\n",
    "        t, _ = find_best(thresholds, scores[train_pairs], labels[train_pairs])\n",
    "        acc_arr.append(eval_acc(t, scores[test_pairs], labels[test_pairs]))\n",
    "    return np.mean(acc_arr), np.std(acc_arr)"
   ]
  },
  {
   "cell_type": "code",
   "execution_count": 28,
   "metadata": {},
   "outputs": [],
   "source": [
    "labels = [1]*300 + [0]*300\n",
    "labels = labels*10\n",
    "labels = np.asarray(labels)"
   ]
  },
  {
   "cell_type": "code",
   "execution_count": 36,
   "metadata": {},
   "outputs": [
    {
     "data": {
      "text/plain": [
       "(0.9916666666666666, 0.0036514837167010952)"
      ]
     },
     "execution_count": 36,
     "metadata": {},
     "output_type": "execute_result"
    }
   ],
   "source": [
    "k_fold_eval(arr, labels)"
   ]
  },
  {
   "cell_type": "code",
   "execution_count": 32,
   "metadata": {},
   "outputs": [],
   "source": [
    "thrNum = 10000\n",
    "thresholds = np.arange(-thrNum, thrNum + 1) * 1.0 / thrNum"
   ]
  },
  {
   "cell_type": "code",
   "execution_count": 34,
   "metadata": {},
   "outputs": [
    {
     "data": {
      "text/plain": [
       "array([-1.    , -0.9999, -0.9998, ...,  0.9998,  0.9999,  1.    ])"
      ]
     },
     "execution_count": 34,
     "metadata": {},
     "output_type": "execute_result"
    }
   ],
   "source": [
    "thresholds"
   ]
  },
  {
   "cell_type": "code",
   "execution_count": 45,
   "metadata": {},
   "outputs": [
    {
     "data": {
      "text/plain": [
       "(0.9916666666666666, 0.0036514837167010952)"
      ]
     },
     "execution_count": 45,
     "metadata": {},
     "output_type": "execute_result"
    }
   ],
   "source": [
    "k_fold_eval(fl, fr, labels)"
   ]
  },
  {
   "cell_type": "code",
   "execution_count": null,
   "metadata": {},
   "outputs": [],
   "source": []
  }
 ],
 "metadata": {
  "kernelspec": {
   "display_name": "Python 3",
   "language": "python",
   "name": "python3"
  },
  "language_info": {
   "codemirror_mode": {
    "name": "ipython",
    "version": 3
   },
   "file_extension": ".py",
   "mimetype": "text/x-python",
   "name": "python",
   "nbconvert_exporter": "python",
   "pygments_lexer": "ipython3",
   "version": "3.6.8"
  }
 },
 "nbformat": 4,
 "nbformat_minor": 2
}
